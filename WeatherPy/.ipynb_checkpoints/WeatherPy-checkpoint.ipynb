{
 "cells": [
  {
   "cell_type": "markdown",
   "metadata": {},
   "source": [
    "# WeatherPy\n",
    "----\n",
    "\n",
    "#### Note\n",
    "* Instructions have been included for each segment. You do not have to follow them exactly, but they are included to help you think through the steps."
   ]
  },
  {
   "cell_type": "code",
   "execution_count": 1,
   "metadata": {
    "scrolled": true
   },
   "outputs": [],
   "source": [
    "# Dependencies and Setup\n",
    "import matplotlib.pyplot as plt\n",
    "import pandas as pd\n",
    "import numpy as np\n",
    "import requests\n",
    "import time\n",
    "from scipy.stats import linregress\n",
    "\n",
    "# Import API key\n",
    "from api_keys import weather_api_key\n",
    "import openweathermapy.core as owm\n",
    "\n",
    "# Incorporated citipy to determine city based on latitude and longitude\n",
    "from citipy import citipy\n",
    "\n",
    "# Output File (CSV)\n",
    "output_data_file = \"output_data/cities.csv\"\n",
    "\n",
    "# Range of latitudes and longitudes\n",
    "lat_range = (-90, 90)\n",
    "lng_range = (-180, 180)"
   ]
  },
  {
   "cell_type": "markdown",
   "metadata": {},
   "source": [
    "## Generate Cities List"
   ]
  },
  {
   "cell_type": "code",
   "execution_count": 2,
   "metadata": {},
   "outputs": [
    {
     "data": {
      "text/plain": [
       "614"
      ]
     },
     "execution_count": 2,
     "metadata": {},
     "output_type": "execute_result"
    }
   ],
   "source": [
    "# List for holding lat_lngs and cities\n",
    "lat_lngs = []\n",
    "cities = []\n",
    "\n",
    "# Create a set of random lat and lng combinations\n",
    "lats = np.random.uniform(lat_range[0], lat_range[1], size=1500)\n",
    "lngs = np.random.uniform(lng_range[0], lng_range[1], size=1500)\n",
    "lat_lngs = zip(lats, lngs)\n",
    "\n",
    "# Identify nearest city for each lat, lng combination\n",
    "for lat_lng in lat_lngs:\n",
    "    city = citipy.nearest_city(lat_lng[0], lat_lng[1]).city_name\n",
    "    \n",
    "    # If the city is unique, then add it to a our cities list\n",
    "    if city not in cities:\n",
    "        cities.append(city)\n",
    "\n",
    "# Print the city count to confirm sufficient count\n",
    "len(cities)"
   ]
  },
  {
   "cell_type": "markdown",
   "metadata": {},
   "source": [
    "### Perform API Calls\n",
    "* Perform a weather check on each city using a series of successive API calls.\n",
    "* Include a print log of each city as it'sbeing processed (with the city number and city name).\n"
   ]
  },
  {
   "cell_type": "code",
   "execution_count": 3,
   "metadata": {
    "scrolled": true
   },
   "outputs": [
    {
     "name": "stdout",
     "output_type": "stream",
     "text": [
      "Beginning Data Retrieval\n",
      "-----------------------------\n",
      "Processing Record 1 of Set 1 | upernavik\n",
      "Processing Record 2 of Set 1 | bredasdorp\n",
      "Processing Record 3 of Set 1 | hilo\n",
      "Processing Record 4 of Set 1 | bethel\n",
      "Processing Record 5 of Set 1 | attawapiskat\n",
      "City not found. Skipping...\n",
      "Processing Record 5 of Set 1 | vaini\n",
      "Processing Record 6 of Set 1 | kununurra\n",
      "Processing Record 7 of Set 1 | arucas\n",
      "Processing Record 8 of Set 1 | norman wells\n",
      "Processing Record 9 of Set 1 | albany\n",
      "Processing Record 10 of Set 1 | ribeira grande\n",
      "Processing Record 11 of Set 1 | fort nelson\n",
      "Processing Record 12 of Set 1 | bako\n",
      "Processing Record 13 of Set 1 | fairbanks\n",
      "Processing Record 14 of Set 1 | hualmay\n",
      "Processing Record 15 of Set 1 | plettenberg bay\n",
      "Processing Record 16 of Set 1 | turayf\n",
      "Processing Record 17 of Set 1 | corinto\n",
      "Processing Record 18 of Set 1 | atuona\n",
      "Processing Record 19 of Set 1 | rikitea\n",
      "Processing Record 20 of Set 1 | sentyabrskiy\n",
      "City not found. Skipping...\n",
      "Processing Record 20 of Set 1 | wulanhaote\n",
      "City not found. Skipping...\n",
      "Processing Record 20 of Set 1 | new norfolk\n",
      "Processing Record 21 of Set 1 | kopidlno\n",
      "Processing Record 22 of Set 1 | busselton\n",
      "Processing Record 23 of Set 1 | barentsburg\n",
      "City not found. Skipping...\n",
      "Processing Record 23 of Set 1 | marcona\n",
      "City not found. Skipping...\n",
      "Processing Record 23 of Set 1 | kapaa\n",
      "Processing Record 24 of Set 1 | pangody\n",
      "Processing Record 25 of Set 1 | portland\n",
      "Processing Record 26 of Set 1 | taolanaro\n",
      "City not found. Skipping...\n",
      "Processing Record 26 of Set 1 | punta arenas\n",
      "Processing Record 27 of Set 1 | oksfjord\n",
      "Processing Record 28 of Set 1 | sahbuz\n",
      "Processing Record 29 of Set 1 | mantua\n",
      "Processing Record 30 of Set 1 | ushuaia\n",
      "Processing Record 31 of Set 1 | carnarvon\n",
      "Processing Record 32 of Set 1 | barrow\n",
      "Processing Record 33 of Set 1 | hithadhoo\n",
      "Processing Record 34 of Set 1 | bluff\n",
      "Processing Record 35 of Set 1 | cherskiy\n",
      "Processing Record 36 of Set 1 | joshimath\n",
      "Processing Record 37 of Set 1 | illoqqortoormiut\n",
      "City not found. Skipping...\n",
      "Processing Record 37 of Set 1 | fuerte olimpo\n",
      "Processing Record 38 of Set 1 | salinopolis\n",
      "Processing Record 39 of Set 1 | saint-pierre\n",
      "Processing Record 40 of Set 1 | tasiilaq\n",
      "Processing Record 41 of Set 1 | airai\n",
      "Processing Record 42 of Set 1 | turukhansk\n",
      "Processing Record 43 of Set 1 | asau\n",
      "Processing Record 44 of Set 1 | alugan\n",
      "Processing Record 45 of Set 1 | lokosovo\n",
      "Processing Record 46 of Set 1 | grindavik\n",
      "Processing Record 47 of Set 1 | khatanga\n",
      "Processing Record 48 of Set 1 | shaoguan\n",
      "Processing Record 49 of Set 1 | port alfred\n",
      "Processing Record 0 of Set 2 | shahdadpur\n",
      "Processing Record 1 of Set 2 | nuuk\n",
      "Processing Record 2 of Set 2 | gizo\n",
      "Processing Record 3 of Set 2 | burica\n",
      "City not found. Skipping...\n",
      "Processing Record 3 of Set 2 | dunedin\n",
      "Processing Record 4 of Set 2 | marovoay\n",
      "Processing Record 5 of Set 2 | pastavy\n",
      "Processing Record 6 of Set 2 | thompson\n",
      "Processing Record 7 of Set 2 | kashi\n",
      "Processing Record 8 of Set 2 | tarudant\n",
      "City not found. Skipping...\n",
      "Processing Record 8 of Set 2 | noyabrsk\n",
      "Processing Record 9 of Set 2 | katsuura\n",
      "Processing Record 10 of Set 2 | havelock\n",
      "Processing Record 11 of Set 2 | cabo san lucas\n",
      "Processing Record 12 of Set 2 | saint-philippe\n",
      "Processing Record 13 of Set 2 | skibbereen\n",
      "Processing Record 14 of Set 2 | alta gracia\n",
      "Processing Record 15 of Set 2 | lagoa\n",
      "Processing Record 16 of Set 2 | port macquarie\n",
      "Processing Record 17 of Set 2 | huarmey\n",
      "Processing Record 18 of Set 2 | lyubeshiv\n",
      "City not found. Skipping...\n",
      "Processing Record 18 of Set 2 | berdigestyakh\n",
      "Processing Record 19 of Set 2 | ketrzyn\n",
      "Processing Record 20 of Set 2 | la asuncion\n",
      "Processing Record 21 of Set 2 | grand gaube\n",
      "Processing Record 22 of Set 2 | ardalstangen\n",
      "Processing Record 23 of Set 2 | cape town\n",
      "Processing Record 24 of Set 2 | chuy\n",
      "Processing Record 25 of Set 2 | mujiayingzi\n",
      "Processing Record 26 of Set 2 | yellowknife\n",
      "Processing Record 27 of Set 2 | nanortalik\n",
      "Processing Record 28 of Set 2 | puerto ayora\n",
      "Processing Record 29 of Set 2 | saleaula\n",
      "City not found. Skipping...\n",
      "Processing Record 29 of Set 2 | srednekolymsk\n",
      "Processing Record 30 of Set 2 | arraial do cabo\n",
      "Processing Record 31 of Set 2 | nyurba\n",
      "Processing Record 32 of Set 2 | wisconsin rapids\n",
      "Processing Record 33 of Set 2 | pangnirtung\n",
      "Processing Record 34 of Set 2 | beyneu\n",
      "Processing Record 35 of Set 2 | richards bay\n",
      "Processing Record 36 of Set 2 | mataura\n",
      "Processing Record 37 of Set 2 | guajara-mirim\n",
      "City not found. Skipping...\n",
      "Processing Record 37 of Set 2 | nizhneyansk\n",
      "City not found. Skipping...\n",
      "Processing Record 37 of Set 2 | hobart\n",
      "Processing Record 38 of Set 2 | goderich\n",
      "Processing Record 39 of Set 2 | agirish\n",
      "Processing Record 40 of Set 2 | zelenoborskiy\n",
      "Processing Record 41 of Set 2 | iwanai\n",
      "Processing Record 42 of Set 2 | pusztaszabolcs\n",
      "Processing Record 43 of Set 2 | rudbar\n",
      "Processing Record 44 of Set 2 | geraldton\n",
      "Processing Record 45 of Set 2 | kruisfontein\n",
      "Processing Record 46 of Set 2 | mweka\n",
      "Processing Record 47 of Set 2 | lahad datu\n",
      "Processing Record 48 of Set 2 | ashqelon\n",
      "Processing Record 49 of Set 2 | verkhoyansk\n",
      "Processing Record 0 of Set 3 | tsihombe\n",
      "City not found. Skipping...\n",
      "Processing Record 0 of Set 3 | mahebourg\n",
      "Processing Record 1 of Set 3 | hasaki\n",
      "Processing Record 2 of Set 3 | jamestown\n",
      "Processing Record 3 of Set 3 | sao filipe\n",
      "Processing Record 4 of Set 3 | nikolskoye\n",
      "Processing Record 5 of Set 3 | esperance\n",
      "Processing Record 6 of Set 3 | talnakh\n",
      "Processing Record 7 of Set 3 | saskylakh\n",
      "Processing Record 8 of Set 3 | bubaque\n",
      "Processing Record 9 of Set 3 | hohhot\n",
      "Processing Record 10 of Set 3 | sibolga\n",
      "Processing Record 11 of Set 3 | shingu\n",
      "Processing Record 12 of Set 3 | sabang\n",
      "Processing Record 13 of Set 3 | clyde river\n",
      "Processing Record 14 of Set 3 | comodoro rivadavia\n",
      "Processing Record 15 of Set 3 | dikson\n",
      "Processing Record 16 of Set 3 | georgetown\n",
      "Processing Record 17 of Set 3 | pevek\n",
      "Processing Record 18 of Set 3 | priiskovyy\n",
      "Processing Record 19 of Set 3 | santa marta\n",
      "Processing Record 20 of Set 3 | fortuna\n",
      "Processing Record 21 of Set 3 | severo-kurilsk\n",
      "Processing Record 22 of Set 3 | nouakchott\n",
      "Processing Record 23 of Set 3 | upata\n",
      "Processing Record 24 of Set 3 | tabuk\n",
      "Processing Record 25 of Set 3 | alta floresta\n",
      "Processing Record 26 of Set 3 | victoria\n",
      "Processing Record 27 of Set 3 | butaritari\n",
      "Processing Record 28 of Set 3 | avarua\n",
      "Processing Record 29 of Set 3 | poum\n",
      "Processing Record 30 of Set 3 | yulara\n",
      "Processing Record 31 of Set 3 | port elizabeth\n",
      "Processing Record 32 of Set 3 | makat\n",
      "Processing Record 33 of Set 3 | east london\n",
      "Processing Record 34 of Set 3 | eureka\n",
      "Processing Record 35 of Set 3 | banda aceh\n",
      "Processing Record 36 of Set 3 | hermanus\n",
      "Processing Record 37 of Set 3 | marrakesh\n",
      "Processing Record 38 of Set 3 | beringovskiy\n",
      "Processing Record 39 of Set 3 | koslan\n",
      "Processing Record 40 of Set 3 | pyinmana\n",
      "Processing Record 41 of Set 3 | sidi ali\n",
      "Processing Record 42 of Set 3 | hudson bay\n",
      "Processing Record 43 of Set 3 | vardo\n",
      "Processing Record 44 of Set 3 | ngukurr\n",
      "City not found. Skipping...\n",
      "Processing Record 44 of Set 3 | san quintin\n",
      "Processing Record 45 of Set 3 | moroni\n",
      "Processing Record 46 of Set 3 | cananea\n",
      "Processing Record 47 of Set 3 | ternate\n",
      "Processing Record 48 of Set 3 | chanal\n",
      "Processing Record 49 of Set 3 | przhevalskoye\n",
      "Processing Record 0 of Set 4 | bluefields\n",
      "Processing Record 1 of Set 4 | pisco\n",
      "Processing Record 2 of Set 4 | playa vicente\n",
      "Processing Record 3 of Set 4 | pathein\n",
      "Processing Record 4 of Set 4 | ulladulla\n",
      "Processing Record 5 of Set 4 | khash\n",
      "Processing Record 6 of Set 4 | bud\n",
      "Processing Record 7 of Set 4 | chokurdakh\n",
      "Processing Record 8 of Set 4 | tuatapere\n",
      "Processing Record 9 of Set 4 | columbus\n",
      "Processing Record 10 of Set 4 | port moresby\n",
      "Processing Record 11 of Set 4 | saint-augustin\n",
      "Processing Record 12 of Set 4 | kaitangata\n",
      "Processing Record 13 of Set 4 | castro\n",
      "Processing Record 14 of Set 4 | komsomolskiy\n",
      "Processing Record 15 of Set 4 | constitucion\n",
      "Processing Record 16 of Set 4 | mullaitivu\n",
      "City not found. Skipping...\n",
      "Processing Record 16 of Set 4 | la ronge\n",
      "Processing Record 17 of Set 4 | coihaique\n",
      "Processing Record 18 of Set 4 | roma\n",
      "Processing Record 19 of Set 4 | north bend\n",
      "Processing Record 20 of Set 4 | severo-yeniseyskiy\n",
      "Processing Record 21 of Set 4 | biryusinsk\n"
     ]
    },
    {
     "name": "stdout",
     "output_type": "stream",
     "text": [
      "Processing Record 22 of Set 4 | muros\n",
      "Processing Record 23 of Set 4 | baoqing\n",
      "Processing Record 24 of Set 4 | saint george\n",
      "Processing Record 25 of Set 4 | kutum\n",
      "Processing Record 26 of Set 4 | tongliao\n",
      "Processing Record 27 of Set 4 | ambilobe\n",
      "Processing Record 28 of Set 4 | kushmurun\n",
      "Processing Record 29 of Set 4 | areosa\n",
      "Processing Record 30 of Set 4 | sorland\n",
      "Processing Record 31 of Set 4 | marsa matruh\n",
      "Processing Record 32 of Set 4 | longyearbyen\n",
      "Processing Record 33 of Set 4 | butka\n",
      "Processing Record 34 of Set 4 | warqla\n",
      "City not found. Skipping...\n",
      "Processing Record 34 of Set 4 | agsu\n",
      "City not found. Skipping...\n",
      "Processing Record 34 of Set 4 | namibe\n",
      "Processing Record 35 of Set 4 | valparaiso\n",
      "Processing Record 36 of Set 4 | torbay\n",
      "Processing Record 37 of Set 4 | kargasok\n",
      "Processing Record 38 of Set 4 | springbok\n",
      "Processing Record 39 of Set 4 | belushya guba\n",
      "City not found. Skipping...\n",
      "Processing Record 39 of Set 4 | awjilah\n",
      "Processing Record 40 of Set 4 | plouzane\n",
      "Processing Record 41 of Set 4 | sumenep\n",
      "Processing Record 42 of Set 4 | mehamn\n",
      "Processing Record 43 of Set 4 | nome\n",
      "Processing Record 44 of Set 4 | puerto ayacucho\n",
      "Processing Record 45 of Set 4 | stokmarknes\n",
      "Processing Record 46 of Set 4 | luganville\n",
      "Processing Record 47 of Set 4 | lucapa\n",
      "Processing Record 48 of Set 4 | coquimbo\n",
      "Processing Record 49 of Set 4 | anastacio\n",
      "Processing Record 0 of Set 5 | andenes\n",
      "Processing Record 1 of Set 5 | samusu\n",
      "City not found. Skipping...\n",
      "Processing Record 1 of Set 5 | qaanaaq\n",
      "Processing Record 2 of Set 5 | malatya\n",
      "Processing Record 3 of Set 5 | kodiak\n",
      "Processing Record 4 of Set 5 | kaeo\n",
      "Processing Record 5 of Set 5 | sal rei\n",
      "Processing Record 6 of Set 5 | san juan\n",
      "Processing Record 7 of Set 5 | mys shmidta\n",
      "City not found. Skipping...\n",
      "Processing Record 7 of Set 5 | te anau\n",
      "Processing Record 8 of Set 5 | kodinsk\n",
      "Processing Record 9 of Set 5 | sumbawa\n",
      "City not found. Skipping...\n",
      "Processing Record 9 of Set 5 | waipawa\n",
      "Processing Record 10 of Set 5 | laguna\n",
      "Processing Record 11 of Set 5 | ancud\n",
      "Processing Record 12 of Set 5 | bardstown\n",
      "Processing Record 13 of Set 5 | formoso do araguaia\n",
      "City not found. Skipping...\n",
      "Processing Record 13 of Set 5 | kavieng\n",
      "Processing Record 14 of Set 5 | forbes\n",
      "Processing Record 15 of Set 5 | touros\n",
      "Processing Record 16 of Set 5 | faanui\n",
      "Processing Record 17 of Set 5 | tidore\n",
      "City not found. Skipping...\n",
      "Processing Record 17 of Set 5 | avera\n",
      "Processing Record 18 of Set 5 | klyuchi\n",
      "Processing Record 19 of Set 5 | klaksvik\n",
      "Processing Record 20 of Set 5 | dicabisagan\n",
      "Processing Record 21 of Set 5 | vostok\n",
      "Processing Record 22 of Set 5 | sheridan\n",
      "Processing Record 23 of Set 5 | aleksandrovskoye\n",
      "Processing Record 24 of Set 5 | grand river south east\n",
      "City not found. Skipping...\n",
      "Processing Record 24 of Set 5 | krasnoselkup\n",
      "Processing Record 25 of Set 5 | general pico\n",
      "Processing Record 26 of Set 5 | birsk\n",
      "Processing Record 27 of Set 5 | aksu\n",
      "Processing Record 28 of Set 5 | kuala terengganu\n",
      "Processing Record 29 of Set 5 | pahrump\n",
      "Processing Record 30 of Set 5 | port blair\n",
      "Processing Record 31 of Set 5 | luderitz\n",
      "Processing Record 32 of Set 5 | quatre cocos\n",
      "Processing Record 33 of Set 5 | amderma\n",
      "City not found. Skipping...\n",
      "Processing Record 33 of Set 5 | sistranda\n",
      "Processing Record 34 of Set 5 | baruun-urt\n",
      "Processing Record 35 of Set 5 | saldanha\n",
      "Processing Record 36 of Set 5 | prieska\n",
      "Processing Record 37 of Set 5 | kuryk\n",
      "Processing Record 38 of Set 5 | lindon\n",
      "Processing Record 39 of Set 5 | saint-georges\n",
      "Processing Record 40 of Set 5 | vila do maio\n",
      "Processing Record 41 of Set 5 | lebu\n",
      "Processing Record 42 of Set 5 | meyungs\n",
      "City not found. Skipping...\n",
      "Processing Record 42 of Set 5 | zaysan\n",
      "Processing Record 43 of Set 5 | umzimvubu\n",
      "City not found. Skipping...\n",
      "Processing Record 43 of Set 5 | iqaluit\n",
      "Processing Record 44 of Set 5 | port-de-paix\n",
      "City not found. Skipping...\n",
      "Processing Record 44 of Set 5 | meulaboh\n",
      "Processing Record 45 of Set 5 | ust-donetskiy\n",
      "Processing Record 46 of Set 5 | inhambane\n",
      "Processing Record 47 of Set 5 | ponta do sol\n",
      "Processing Record 48 of Set 5 | muborak\n",
      "Processing Record 49 of Set 5 | muroto\n",
      "Processing Record 0 of Set 6 | inuvik\n",
      "Processing Record 1 of Set 6 | salalah\n",
      "Processing Record 2 of Set 6 | taoudenni\n",
      "Processing Record 3 of Set 6 | chara\n",
      "Processing Record 4 of Set 6 | weihe\n",
      "Processing Record 5 of Set 6 | kuytun\n",
      "Processing Record 6 of Set 6 | hofn\n",
      "Processing Record 7 of Set 6 | ardakan\n",
      "Processing Record 8 of Set 6 | sorvag\n",
      "City not found. Skipping...\n",
      "Processing Record 8 of Set 6 | omboue\n",
      "Processing Record 9 of Set 6 | aklavik\n",
      "Processing Record 10 of Set 6 | tuktoyaktuk\n",
      "Processing Record 11 of Set 6 | dayong\n",
      "Processing Record 12 of Set 6 | saint-joseph\n",
      "Processing Record 13 of Set 6 | skelleftea\n",
      "Processing Record 14 of Set 6 | broken hill\n",
      "Processing Record 15 of Set 6 | mar del plata\n",
      "Processing Record 16 of Set 6 | provideniya\n",
      "Processing Record 17 of Set 6 | honiara\n",
      "Processing Record 18 of Set 6 | port keats\n",
      "Processing Record 19 of Set 6 | phan rang\n",
      "City not found. Skipping...\n",
      "Processing Record 19 of Set 6 | serrinha\n",
      "Processing Record 20 of Set 6 | trairi\n",
      "Processing Record 21 of Set 6 | presidencia roque saenz pena\n",
      "Processing Record 22 of Set 6 | kysyl-syr\n",
      "Processing Record 23 of Set 6 | mahibadhoo\n",
      "Processing Record 24 of Set 6 | bayir\n",
      "Processing Record 25 of Set 6 | bengkulu\n",
      "Processing Record 26 of Set 6 | velyka lepetykha\n",
      "Processing Record 27 of Set 6 | luanda\n",
      "Processing Record 28 of Set 6 | chimore\n",
      "Processing Record 29 of Set 6 | roald\n",
      "Processing Record 30 of Set 6 | oia\n",
      "Processing Record 31 of Set 6 | nortelandia\n",
      "Processing Record 32 of Set 6 | bilibino\n",
      "Processing Record 33 of Set 6 | mizdah\n",
      "Processing Record 34 of Set 6 | filadelfia\n",
      "Processing Record 35 of Set 6 | tanete\n",
      "Processing Record 36 of Set 6 | matagami\n",
      "Processing Record 37 of Set 6 | mahajanga\n",
      "Processing Record 38 of Set 6 | evensk\n",
      "Processing Record 39 of Set 6 | beisfjord\n",
      "Processing Record 40 of Set 6 | azangaro\n",
      "Processing Record 41 of Set 6 | kisangani\n",
      "Processing Record 42 of Set 6 | buriti\n",
      "Processing Record 43 of Set 6 | hambantota\n",
      "Processing Record 44 of Set 6 | atar\n",
      "Processing Record 45 of Set 6 | carbondale\n",
      "Processing Record 46 of Set 6 | gamba\n",
      "Processing Record 47 of Set 6 | chiredzi\n",
      "Processing Record 48 of Set 6 | palabuhanratu\n",
      "City not found. Skipping...\n",
      "Processing Record 48 of Set 6 | axim\n",
      "Processing Record 49 of Set 6 | petropavlovsk-kamchatskiy\n",
      "Processing Record 0 of Set 7 | noumea\n",
      "Processing Record 1 of Set 7 | chenzhou\n",
      "Processing Record 2 of Set 7 | maldonado\n",
      "Processing Record 3 of Set 7 | san patricio\n",
      "Processing Record 4 of Set 7 | vallenar\n",
      "Processing Record 5 of Set 7 | porbandar\n",
      "Processing Record 6 of Set 7 | batagay-alyta\n",
      "Processing Record 7 of Set 7 | vilyuysk\n",
      "Processing Record 8 of Set 7 | karratha\n",
      "Processing Record 9 of Set 7 | flinders\n",
      "Processing Record 10 of Set 7 | esil\n",
      "Processing Record 11 of Set 7 | vila franca do campo\n",
      "Processing Record 12 of Set 7 | stefanovikion\n",
      "City not found. Skipping...\n",
      "Processing Record 12 of Set 7 | vettavalam\n",
      "Processing Record 13 of Set 7 | yaan\n",
      "Processing Record 14 of Set 7 | whitehorse\n",
      "Processing Record 15 of Set 7 | san pedro de macoris\n",
      "Processing Record 16 of Set 7 | riyadh\n",
      "Processing Record 17 of Set 7 | geldrop\n",
      "Processing Record 18 of Set 7 | piacabucu\n",
      "Processing Record 19 of Set 7 | eidsvag\n",
      "Processing Record 20 of Set 7 | borovskoy\n",
      "Processing Record 21 of Set 7 | rio grande\n",
      "Processing Record 22 of Set 7 | tawang\n",
      "Processing Record 23 of Set 7 | mapiripan\n",
      "Processing Record 24 of Set 7 | santa cruz\n",
      "Processing Record 25 of Set 7 | ust-kuyga\n",
      "Processing Record 26 of Set 7 | kavaratti\n",
      "Processing Record 27 of Set 7 | souillac\n",
      "Processing Record 28 of Set 7 | axixa do tocantins\n",
      "City not found. Skipping...\n",
      "Processing Record 28 of Set 7 | nizwa\n",
      "Processing Record 29 of Set 7 | bontang\n",
      "Processing Record 30 of Set 7 | mae sot\n",
      "Processing Record 31 of Set 7 | berlevag\n",
      "Processing Record 32 of Set 7 | severnyy\n",
      "Processing Record 33 of Set 7 | anadyr\n",
      "Processing Record 34 of Set 7 | skagastrond\n",
      "City not found. Skipping...\n",
      "Processing Record 34 of Set 7 | umm lajj\n",
      "Processing Record 35 of Set 7 | rongcheng\n",
      "Processing Record 36 of Set 7 | yar-sale\n",
      "Processing Record 37 of Set 7 | belaya gora\n",
      "Processing Record 38 of Set 7 | haines junction\n"
     ]
    },
    {
     "name": "stdout",
     "output_type": "stream",
     "text": [
      "Processing Record 39 of Set 7 | harper\n",
      "Processing Record 40 of Set 7 | taybad\n",
      "Processing Record 41 of Set 7 | mercedes\n",
      "Processing Record 42 of Set 7 | yeppoon\n",
      "Processing Record 43 of Set 7 | baker city\n",
      "Processing Record 44 of Set 7 | salama\n",
      "Processing Record 45 of Set 7 | nioki\n",
      "Processing Record 46 of Set 7 | ossora\n",
      "Processing Record 47 of Set 7 | champerico\n",
      "Processing Record 48 of Set 7 | perth\n",
      "Processing Record 49 of Set 7 | blagoyevo\n",
      "Processing Record 0 of Set 8 | vaitupu\n",
      "City not found. Skipping...\n",
      "Processing Record 0 of Set 8 | mount gambier\n",
      "Processing Record 1 of Set 8 | chingirlau\n",
      "Processing Record 2 of Set 8 | kadykchan\n",
      "City not found. Skipping...\n",
      "Processing Record 2 of Set 8 | sur\n",
      "Processing Record 3 of Set 8 | kawambwa\n",
      "Processing Record 4 of Set 8 | chaman\n",
      "Processing Record 5 of Set 8 | kirkuk\n",
      "Processing Record 6 of Set 8 | pitimbu\n",
      "Processing Record 7 of Set 8 | prince rupert\n",
      "Processing Record 8 of Set 8 | lorengau\n",
      "Processing Record 9 of Set 8 | keti bandar\n",
      "Processing Record 10 of Set 8 | port augusta\n",
      "Processing Record 11 of Set 8 | princeton\n",
      "Processing Record 12 of Set 8 | andros town\n",
      "Processing Record 13 of Set 8 | sundarnagar\n",
      "Processing Record 14 of Set 8 | abu samrah\n",
      "Processing Record 15 of Set 8 | leningradskiy\n",
      "Processing Record 16 of Set 8 | makakilo city\n",
      "Processing Record 17 of Set 8 | swan river\n",
      "Processing Record 18 of Set 8 | saint anthony\n",
      "Processing Record 19 of Set 8 | hvammstangi\n",
      "City not found. Skipping...\n",
      "Processing Record 19 of Set 8 | jacmel\n",
      "Processing Record 20 of Set 8 | nata\n",
      "Processing Record 21 of Set 8 | san cristobal\n",
      "Processing Record 22 of Set 8 | jaguarari\n",
      "Processing Record 23 of Set 8 | abu dhabi\n",
      "Processing Record 24 of Set 8 | tehachapi\n",
      "Processing Record 25 of Set 8 | namatanai\n",
      "Processing Record 26 of Set 8 | japura\n",
      "Processing Record 27 of Set 8 | santiago del estero\n",
      "Processing Record 28 of Set 8 | kaffrine\n",
      "Processing Record 29 of Set 8 | bondoukou\n",
      "Processing Record 30 of Set 8 | viedma\n",
      "Processing Record 31 of Set 8 | belfast\n",
      "Processing Record 32 of Set 8 | lompoc\n",
      "Processing Record 33 of Set 8 | kismayo\n",
      "Processing Record 34 of Set 8 | duku\n",
      "Processing Record 35 of Set 8 | kamakwie\n",
      "Processing Record 36 of Set 8 | kasane\n",
      "Processing Record 37 of Set 8 | trenggalek\n",
      "Processing Record 38 of Set 8 | khandbari\n",
      "Processing Record 39 of Set 8 | great yarmouth\n",
      "Processing Record 40 of Set 8 | sakakah\n",
      "Processing Record 41 of Set 8 | visnagar\n",
      "Processing Record 42 of Set 8 | dhidhdhoo\n",
      "Processing Record 43 of Set 8 | odessa\n",
      "Processing Record 44 of Set 8 | guatire\n",
      "Processing Record 45 of Set 8 | helong\n",
      "Processing Record 46 of Set 8 | ilulissat\n",
      "Processing Record 47 of Set 8 | maceio\n",
      "Processing Record 48 of Set 8 | reforma\n",
      "Processing Record 49 of Set 8 | ukiah\n",
      "Processing Record 0 of Set 9 | ahipara\n",
      "Processing Record 1 of Set 9 | narsaq\n",
      "Processing Record 2 of Set 9 | acarau\n",
      "Processing Record 3 of Set 9 | trincomalee\n",
      "Processing Record 4 of Set 9 | tabiauea\n",
      "City not found. Skipping...\n",
      "Processing Record 4 of Set 9 | bathsheba\n",
      "Processing Record 5 of Set 9 | kualakapuas\n",
      "Processing Record 6 of Set 9 | codrington\n",
      "Processing Record 7 of Set 9 | gunjur\n",
      "Processing Record 8 of Set 9 | bambous virieux\n",
      "Processing Record 9 of Set 9 | xingtai\n",
      "Processing Record 10 of Set 9 | paamiut\n",
      "Processing Record 11 of Set 9 | nanning\n",
      "Processing Record 12 of Set 9 | puerto madryn\n",
      "Processing Record 13 of Set 9 | kampong thum\n",
      "Processing Record 14 of Set 9 | korla\n",
      "Processing Record 15 of Set 9 | los llanos de aridane\n",
      "Processing Record 16 of Set 9 | pemangkat\n",
      "Processing Record 17 of Set 9 | newberry\n",
      "Processing Record 18 of Set 9 | kangayam\n",
      "Processing Record 19 of Set 9 | mogadishu\n",
      "Processing Record 20 of Set 9 | mankovo-kalitvenskoye\n",
      "City not found. Skipping...\n",
      "Processing Record 20 of Set 9 | vestmannaeyjar\n",
      "Processing Record 21 of Set 9 | guangyuan\n",
      "Processing Record 22 of Set 9 | usta muhammad\n",
      "Processing Record 23 of Set 9 | martapura\n",
      "Processing Record 24 of Set 9 | yerbogachen\n",
      "Processing Record 25 of Set 9 | burnie\n",
      "Processing Record 26 of Set 9 | khani\n",
      "Processing Record 27 of Set 9 | oranjemund\n",
      "Processing Record 28 of Set 9 | naze\n",
      "Processing Record 29 of Set 9 | cidreira\n",
      "Processing Record 30 of Set 9 | mahadday weyne\n",
      "City not found. Skipping...\n",
      "Processing Record 30 of Set 9 | padang\n",
      "Processing Record 31 of Set 9 | tambacounda\n",
      "Processing Record 32 of Set 9 | tanhacu\n",
      "Processing Record 33 of Set 9 | rawson\n",
      "Processing Record 34 of Set 9 | quelimane\n",
      "Processing Record 35 of Set 9 | lithgow\n",
      "Processing Record 36 of Set 9 | borogontsy\n",
      "Processing Record 37 of Set 9 | tieli\n",
      "Processing Record 38 of Set 9 | caravelas\n",
      "Processing Record 39 of Set 9 | ixtapa\n",
      "Processing Record 40 of Set 9 | ostrovnoy\n",
      "Processing Record 41 of Set 9 | sitka\n",
      "Processing Record 42 of Set 9 | carupano\n",
      "Processing Record 43 of Set 9 | dharmapuri\n",
      "Processing Record 44 of Set 9 | nan\n",
      "Processing Record 45 of Set 9 | novoagansk\n",
      "Processing Record 46 of Set 9 | floro\n",
      "Processing Record 47 of Set 9 | doha\n",
      "Processing Record 48 of Set 9 | tual\n",
      "Processing Record 49 of Set 9 | ingham\n",
      "Processing Record 0 of Set 10 | kollam\n",
      "Processing Record 1 of Set 10 | sao miguel do araguaia\n",
      "Processing Record 2 of Set 10 | rolim de moura\n",
      "City not found. Skipping...\n",
      "Processing Record 2 of Set 10 | mapiri\n",
      "Processing Record 3 of Set 10 | chagda\n",
      "City not found. Skipping...\n",
      "Processing Record 3 of Set 10 | guerrero negro\n",
      "Processing Record 4 of Set 10 | cayenne\n",
      "Processing Record 5 of Set 10 | fonte boa\n",
      "Processing Record 6 of Set 10 | kautokeino\n",
      "Processing Record 7 of Set 10 | pedasi\n",
      "Processing Record 8 of Set 10 | barawe\n",
      "City not found. Skipping...\n",
      "Processing Record 8 of Set 10 | royan\n",
      "Processing Record 9 of Set 10 | hamilton\n",
      "Processing Record 10 of Set 10 | progreso\n",
      "Processing Record 11 of Set 10 | erdenet\n",
      "Processing Record 12 of Set 10 | terrace bay\n",
      "Processing Record 13 of Set 10 | lolua\n",
      "City not found. Skipping...\n",
      "Processing Record 13 of Set 10 | teguise\n",
      "Processing Record 14 of Set 10 | dzhusaly\n",
      "City not found. Skipping...\n",
      "Processing Record 14 of Set 10 | nemuro\n",
      "Processing Record 15 of Set 10 | salym\n",
      "Processing Record 16 of Set 10 | baijiantan\n",
      "Processing Record 17 of Set 10 | muromtsevo\n",
      "Processing Record 18 of Set 10 | cristalina\n",
      "Processing Record 19 of Set 10 | wuxue\n",
      "Processing Record 20 of Set 10 | petauke\n",
      "Processing Record 21 of Set 10 | lishan\n",
      "Processing Record 22 of Set 10 | lavrentiya\n",
      "Processing Record 23 of Set 10 | maiduguri\n",
      "Processing Record 24 of Set 10 | tessalit\n",
      "Processing Record 25 of Set 10 | novaya ladoga\n",
      "Processing Record 26 of Set 10 | olga\n",
      "Processing Record 27 of Set 10 | kahului\n",
      "Processing Record 28 of Set 10 | poya\n",
      "Processing Record 29 of Set 10 | berezovyy\n",
      "Processing Record 30 of Set 10 | doka\n",
      "Processing Record 31 of Set 10 | sawang daen din\n",
      "Processing Record 32 of Set 10 | flin flon\n",
      "Processing Record 33 of Set 10 | raudeberg\n",
      "Processing Record 34 of Set 10 | port hawkesbury\n",
      "Processing Record 35 of Set 10 | impfondo\n",
      "Processing Record 36 of Set 10 | samarai\n",
      "Processing Record 37 of Set 10 | daoukro\n",
      "Processing Record 38 of Set 10 | honningsvag\n",
      "Processing Record 39 of Set 10 | nelson bay\n",
      "Processing Record 40 of Set 10 | vao\n",
      "Processing Record 41 of Set 10 | okha\n",
      "Processing Record 42 of Set 10 | selty\n",
      "Processing Record 43 of Set 10 | magdagachi\n",
      "Processing Record 44 of Set 10 | mulheim\n",
      "Processing Record 45 of Set 10 | sukheke\n",
      "City not found. Skipping...\n",
      "Processing Record 45 of Set 10 | mirabad\n",
      "Processing Record 46 of Set 10 | alice springs\n",
      "Processing Record 47 of Set 10 | paita\n",
      "Processing Record 48 of Set 10 | rezina\n",
      "Processing Record 49 of Set 10 | poshtove\n",
      "Processing Record 0 of Set 11 | moses lake\n",
      "Processing Record 1 of Set 11 | huilong\n",
      "Processing Record 2 of Set 11 | harlingen\n",
      "Processing Record 3 of Set 11 | arkhangelsk\n",
      "Processing Record 4 of Set 11 | husavik\n",
      "Processing Record 5 of Set 11 | jumla\n",
      "Processing Record 6 of Set 11 | prachuap khiri khan\n",
      "Processing Record 7 of Set 11 | turinsk\n",
      "Processing Record 8 of Set 11 | sao sepe\n",
      "Processing Record 9 of Set 11 | shimoni\n",
      "Processing Record 10 of Set 11 | accra\n",
      "Processing Record 11 of Set 11 | tanout\n",
      "Processing Record 12 of Set 11 | kayes\n",
      "Processing Record 13 of Set 11 | karrapur\n",
      "Processing Record 14 of Set 11 | rocky mountain house\n",
      "Processing Record 15 of Set 11 | dalvik\n"
     ]
    },
    {
     "name": "stdout",
     "output_type": "stream",
     "text": [
      "Processing Record 16 of Set 11 | mackay\n",
      "Processing Record 17 of Set 11 | kuznechikha\n",
      "Processing Record 18 of Set 11 | tura\n",
      "Processing Record 19 of Set 11 | cap malheureux\n",
      "Processing Record 20 of Set 11 | gat\n",
      "Processing Record 21 of Set 11 | salamiyah\n",
      "Processing Record 22 of Set 11 | sioux lookout\n",
      "Processing Record 23 of Set 11 | bourail\n",
      "Processing Record 24 of Set 11 | rockland\n",
      "Processing Record 25 of Set 11 | namie\n",
      "Processing Record 26 of Set 11 | olafsvik\n",
      "Processing Record 27 of Set 11 | weymouth\n",
      "Processing Record 28 of Set 11 | shache\n",
      "Processing Record 29 of Set 11 | hutang\n",
      "Processing Record 30 of Set 11 | mumbwa\n",
      "Processing Record 31 of Set 11 | la union\n",
      "Processing Record 32 of Set 11 | mandalgovi\n",
      "Processing Record 33 of Set 11 | tahlequah\n",
      "Processing Record 34 of Set 11 | witu\n",
      "Processing Record 35 of Set 11 | redlands\n",
      "Processing Record 36 of Set 11 | podor\n",
      "Processing Record 37 of Set 11 | butembo\n",
      "Processing Record 38 of Set 11 | yarada\n",
      "Processing Record 39 of Set 11 | port lincoln\n",
      "Processing Record 40 of Set 11 | carutapera\n",
      "Processing Record 41 of Set 11 | carballo\n",
      "Processing Record 42 of Set 11 | traverse city\n",
      "Processing Record 43 of Set 11 | longyan\n",
      "Processing Record 44 of Set 11 | sleaford\n",
      "Processing Record 45 of Set 11 | margate\n",
      "Processing Record 46 of Set 11 | boke\n",
      "Processing Record 47 of Set 11 | remedios\n",
      "Processing Record 48 of Set 11 | sinop\n",
      "Processing Record 49 of Set 11 | jishou\n",
      "Processing Record 0 of Set 12 | collie\n",
      "Processing Record 1 of Set 12 | lamego\n",
      "Processing Record 2 of Set 12 | thessalon\n",
      "Processing Record 3 of Set 12 | guiratinga\n",
      "Processing Record 4 of Set 12 | siparia\n",
      "Processing Record 5 of Set 12 | obo\n",
      "Processing Record 6 of Set 12 | kulhudhuffushi\n",
      "Processing Record 7 of Set 12 | svetlogorsk\n",
      "Processing Record 8 of Set 12 | westport\n",
      "Processing Record 9 of Set 12 | nara\n",
      "Processing Record 10 of Set 12 | kiama\n",
      "Processing Record 11 of Set 12 | vila velha\n",
      "Processing Record 12 of Set 12 | camalu\n",
      "Processing Record 13 of Set 12 | rybachiy\n",
      "Processing Record 14 of Set 12 | mocambique\n",
      "City not found. Skipping...\n",
      "Processing Record 14 of Set 12 | milkovo\n",
      "Processing Record 15 of Set 12 | aykhal\n",
      "Processing Record 16 of Set 12 | great malvern\n",
      "-----------------------------\n",
      "Data Retrieval Complete\n",
      "-----------------------------\n"
     ]
    }
   ],
   "source": [
    "#See ex 6.2.9 key activity for this hw. import openweathermapy.core as owm  \n",
    "#Create dictionary for city information\n",
    "#Create settings dictionary with information we're interested in \n",
    "City_dict = {}\n",
    "settings = {\"units\": \"metric\", \"appid\": weather_api_key}\n",
    "#Get current weather\n",
    "record_count = 1\n",
    "set_count = 1\n",
    "print(\"Beginning Data Retrieval\\n-----------------------------\")\n",
    "for city in cities:\n",
    "    try:\n",
    "        print(f\"Processing Record {record_count} of Set {set_count} | {city}\")\n",
    "        #6.2.9 Reference\n",
    "        current_weather_city = owm.get_current(city, **settings)\n",
    "        # Add city and weather object into \n",
    "        City_dict[city] = current_weather_city\n",
    "        record_count += 1\n",
    "        if record_count == 50:\n",
    "            record_count = 0\n",
    "            set_count += 1\n",
    "    except:\n",
    "       print(\"City not found. Skipping...\")\n",
    "print(\"-----------------------------\\nData Retrieval Complete\\n-----------------------------\")\n"
   ]
  },
  {
   "cell_type": "markdown",
   "metadata": {},
   "source": [
    "### Convert Raw Data to DataFrame\n",
    "* Export the city data into a .csv.\n",
    "* Display the DataFrame"
   ]
  },
  {
   "cell_type": "code",
   "execution_count": 11,
   "metadata": {},
   "outputs": [
    {
     "data": {
      "text/html": [
       "<div>\n",
       "<style scoped>\n",
       "    .dataframe tbody tr th:only-of-type {\n",
       "        vertical-align: middle;\n",
       "    }\n",
       "\n",
       "    .dataframe tbody tr th {\n",
       "        vertical-align: top;\n",
       "    }\n",
       "\n",
       "    .dataframe thead th {\n",
       "        text-align: right;\n",
       "    }\n",
       "</style>\n",
       "<table border=\"1\" class=\"dataframe\">\n",
       "  <thead>\n",
       "    <tr style=\"text-align: right;\">\n",
       "      <th></th>\n",
       "      <th>City</th>\n",
       "      <th>Lat</th>\n",
       "      <th>Lng</th>\n",
       "      <th>Max Temp</th>\n",
       "      <th>Humidity</th>\n",
       "      <th>Cloudiness</th>\n",
       "      <th>Wind Speed</th>\n",
       "      <th>Country</th>\n",
       "      <th>Date</th>\n",
       "    </tr>\n",
       "  </thead>\n",
       "  <tbody>\n",
       "    <tr>\n",
       "      <th>0</th>\n",
       "      <td>Upernavik</td>\n",
       "      <td>72.7868</td>\n",
       "      <td>-56.1549</td>\n",
       "      <td>-0.72</td>\n",
       "      <td>76</td>\n",
       "      <td>100</td>\n",
       "      <td>1.41</td>\n",
       "      <td>GL</td>\n",
       "      <td>1619424317</td>\n",
       "    </tr>\n",
       "    <tr>\n",
       "      <th>1</th>\n",
       "      <td>Bredasdorp</td>\n",
       "      <td>-34.5322</td>\n",
       "      <td>20.0403</td>\n",
       "      <td>12.00</td>\n",
       "      <td>94</td>\n",
       "      <td>75</td>\n",
       "      <td>1.54</td>\n",
       "      <td>ZA</td>\n",
       "      <td>1619424317</td>\n",
       "    </tr>\n",
       "    <tr>\n",
       "      <th>2</th>\n",
       "      <td>Hilo</td>\n",
       "      <td>19.7297</td>\n",
       "      <td>-155.0900</td>\n",
       "      <td>22.00</td>\n",
       "      <td>83</td>\n",
       "      <td>90</td>\n",
       "      <td>2.57</td>\n",
       "      <td>US</td>\n",
       "      <td>1619424109</td>\n",
       "    </tr>\n",
       "    <tr>\n",
       "      <th>3</th>\n",
       "      <td>Bethel</td>\n",
       "      <td>41.3712</td>\n",
       "      <td>-73.4140</td>\n",
       "      <td>6.00</td>\n",
       "      <td>49</td>\n",
       "      <td>1</td>\n",
       "      <td>4.12</td>\n",
       "      <td>US</td>\n",
       "      <td>1619424334</td>\n",
       "    </tr>\n",
       "    <tr>\n",
       "      <th>4</th>\n",
       "      <td>Vaini</td>\n",
       "      <td>-21.2000</td>\n",
       "      <td>-175.2000</td>\n",
       "      <td>25.00</td>\n",
       "      <td>94</td>\n",
       "      <td>75</td>\n",
       "      <td>1.54</td>\n",
       "      <td>TO</td>\n",
       "      <td>1619424295</td>\n",
       "    </tr>\n",
       "  </tbody>\n",
       "</table>\n",
       "</div>"
      ],
      "text/plain": [
       "         City      Lat       Lng  Max Temp  Humidity  Cloudiness  Wind Speed  \\\n",
       "0   Upernavik  72.7868  -56.1549     -0.72        76         100        1.41   \n",
       "1  Bredasdorp -34.5322   20.0403     12.00        94          75        1.54   \n",
       "2        Hilo  19.7297 -155.0900     22.00        83          90        2.57   \n",
       "3      Bethel  41.3712  -73.4140      6.00        49           1        4.12   \n",
       "4       Vaini -21.2000 -175.2000     25.00        94          75        1.54   \n",
       "\n",
       "  Country        Date  \n",
       "0      GL  1619424317  \n",
       "1      ZA  1619424317  \n",
       "2      US  1619424109  \n",
       "3      US  1619424334  \n",
       "4      TO  1619424295  "
      ]
     },
     "execution_count": 11,
     "metadata": {},
     "output_type": "execute_result"
    }
   ],
   "source": [
    "# Create DataFrame to store: City, Cloudiness, Country, Date, Humidity, Lat, Lng, Max Temp, Wind Speed\n",
    "weatherCity_df = pd.DataFrame([[City_dict[city](\"name\"), \n",
    "                                City_dict[city](\"coord.lat\"), \n",
    "                                City_dict[city](\"coord.lon\"), \n",
    "                                City_dict[city](\"main.temp_max\"), \n",
    "                                City_dict[city](\"main.humidity\"), \n",
    "                                City_dict[city](\"clouds.all\"), \n",
    "                                City_dict[city](\"wind.speed\"), \n",
    "                                City_dict[city](\"sys.country\"), \n",
    "                                City_dict[city](\"dt\")] \n",
    "                                for city in City_dict])\n",
    "# Rename columns\n",
    "weatherCity_df = weatherCity_df.rename(columns={0: \"City\",\n",
    "                                                1: \"Lat\",\n",
    "                                                2: \"Lng\",\n",
    "                                                3: \"Max Temp\",\n",
    "                                                4: \"Humidity\",\n",
    "                                                5: \"Cloudiness\",\n",
    "                                                6: \"Wind Speed\",\n",
    "                                                7: \"Country\",\n",
    "                                                8: \"Date\"})\n",
    "weatherCity_df.head()"
   ]
  },
  {
   "cell_type": "code",
   "execution_count": 16,
   "metadata": {},
   "outputs": [],
   "source": [
    "#Create dataframe and export to csv\n",
    "weatherCity_df.to_csv(\"WeatherPy_data.csv\")"
   ]
  },
  {
   "cell_type": "markdown",
   "metadata": {},
   "source": [
    "## Inspect the data and remove the cities where the humidity > 100%.\n",
    "----\n",
    "Skip this step if there are no cities that have humidity > 100%. "
   ]
  },
  {
   "cell_type": "code",
   "execution_count": 6,
   "metadata": {},
   "outputs": [
    {
     "data": {
      "text/html": [
       "<div>\n",
       "<style scoped>\n",
       "    .dataframe tbody tr th:only-of-type {\n",
       "        vertical-align: middle;\n",
       "    }\n",
       "\n",
       "    .dataframe tbody tr th {\n",
       "        vertical-align: top;\n",
       "    }\n",
       "\n",
       "    .dataframe thead th {\n",
       "        text-align: right;\n",
       "    }\n",
       "</style>\n",
       "<table border=\"1\" class=\"dataframe\">\n",
       "  <thead>\n",
       "    <tr style=\"text-align: right;\">\n",
       "      <th></th>\n",
       "      <th>Lat</th>\n",
       "      <th>Lng</th>\n",
       "      <th>Max Temp</th>\n",
       "      <th>Humidity</th>\n",
       "      <th>Cloudiness</th>\n",
       "      <th>Wind Speed</th>\n",
       "      <th>Date</th>\n",
       "    </tr>\n",
       "  </thead>\n",
       "  <tbody>\n",
       "    <tr>\n",
       "      <th>count</th>\n",
       "      <td>550.000000</td>\n",
       "      <td>550.000000</td>\n",
       "      <td>550.000000</td>\n",
       "      <td>550.000000</td>\n",
       "      <td>550.000000</td>\n",
       "      <td>550.000000</td>\n",
       "      <td>5.500000e+02</td>\n",
       "    </tr>\n",
       "    <tr>\n",
       "      <th>mean</th>\n",
       "      <td>19.973545</td>\n",
       "      <td>17.124400</td>\n",
       "      <td>58.331400</td>\n",
       "      <td>67.890909</td>\n",
       "      <td>52.141818</td>\n",
       "      <td>8.544800</td>\n",
       "      <td>1.585764e+09</td>\n",
       "    </tr>\n",
       "    <tr>\n",
       "      <th>std</th>\n",
       "      <td>33.284840</td>\n",
       "      <td>91.595451</td>\n",
       "      <td>25.795297</td>\n",
       "      <td>20.864881</td>\n",
       "      <td>35.766469</td>\n",
       "      <td>6.078869</td>\n",
       "      <td>5.539674e+01</td>\n",
       "    </tr>\n",
       "    <tr>\n",
       "      <th>min</th>\n",
       "      <td>-54.800000</td>\n",
       "      <td>-179.170000</td>\n",
       "      <td>-11.340000</td>\n",
       "      <td>9.000000</td>\n",
       "      <td>0.000000</td>\n",
       "      <td>0.160000</td>\n",
       "      <td>1.585764e+09</td>\n",
       "    </tr>\n",
       "    <tr>\n",
       "      <th>25%</th>\n",
       "      <td>-8.077500</td>\n",
       "      <td>-64.627500</td>\n",
       "      <td>42.800000</td>\n",
       "      <td>55.000000</td>\n",
       "      <td>20.000000</td>\n",
       "      <td>4.525000</td>\n",
       "      <td>1.585764e+09</td>\n",
       "    </tr>\n",
       "    <tr>\n",
       "      <th>50%</th>\n",
       "      <td>23.630000</td>\n",
       "      <td>19.635000</td>\n",
       "      <td>64.940000</td>\n",
       "      <td>72.000000</td>\n",
       "      <td>57.000000</td>\n",
       "      <td>7.325000</td>\n",
       "      <td>1.585764e+09</td>\n",
       "    </tr>\n",
       "    <tr>\n",
       "      <th>75%</th>\n",
       "      <td>48.672500</td>\n",
       "      <td>97.350000</td>\n",
       "      <td>78.800000</td>\n",
       "      <td>83.000000</td>\n",
       "      <td>86.750000</td>\n",
       "      <td>11.410000</td>\n",
       "      <td>1.585764e+09</td>\n",
       "    </tr>\n",
       "    <tr>\n",
       "      <th>max</th>\n",
       "      <td>78.220000</td>\n",
       "      <td>179.320000</td>\n",
       "      <td>102.200000</td>\n",
       "      <td>100.000000</td>\n",
       "      <td>100.000000</td>\n",
       "      <td>46.080000</td>\n",
       "      <td>1.585764e+09</td>\n",
       "    </tr>\n",
       "  </tbody>\n",
       "</table>\n",
       "</div>"
      ],
      "text/plain": [
       "              Lat         Lng    Max Temp    Humidity  Cloudiness  Wind Speed  \\\n",
       "count  550.000000  550.000000  550.000000  550.000000  550.000000  550.000000   \n",
       "mean    19.973545   17.124400   58.331400   67.890909   52.141818    8.544800   \n",
       "std     33.284840   91.595451   25.795297   20.864881   35.766469    6.078869   \n",
       "min    -54.800000 -179.170000  -11.340000    9.000000    0.000000    0.160000   \n",
       "25%     -8.077500  -64.627500   42.800000   55.000000   20.000000    4.525000   \n",
       "50%     23.630000   19.635000   64.940000   72.000000   57.000000    7.325000   \n",
       "75%     48.672500   97.350000   78.800000   83.000000   86.750000   11.410000   \n",
       "max     78.220000  179.320000  102.200000  100.000000  100.000000   46.080000   \n",
       "\n",
       "               Date  \n",
       "count  5.500000e+02  \n",
       "mean   1.585764e+09  \n",
       "std    5.539674e+01  \n",
       "min    1.585764e+09  \n",
       "25%    1.585764e+09  \n",
       "50%    1.585764e+09  \n",
       "75%    1.585764e+09  \n",
       "max    1.585764e+09  "
      ]
     },
     "execution_count": 6,
     "metadata": {},
     "output_type": "execute_result"
    }
   ],
   "source": []
  },
  {
   "cell_type": "code",
   "execution_count": 17,
   "metadata": {},
   "outputs": [
    {
     "data": {
      "text/plain": [
       "Int64Index([], dtype='int64')"
      ]
     },
     "execution_count": 17,
     "metadata": {},
     "output_type": "execute_result"
    }
   ],
   "source": [
    "#  Get the indices of cities that have humidity over 100%.\n"
   ]
  },
  {
   "cell_type": "code",
   "execution_count": 19,
   "metadata": {},
   "outputs": [
    {
     "data": {
      "text/html": [
       "<div>\n",
       "<style scoped>\n",
       "    .dataframe tbody tr th:only-of-type {\n",
       "        vertical-align: middle;\n",
       "    }\n",
       "\n",
       "    .dataframe tbody tr th {\n",
       "        vertical-align: top;\n",
       "    }\n",
       "\n",
       "    .dataframe thead th {\n",
       "        text-align: right;\n",
       "    }\n",
       "</style>\n",
       "<table border=\"1\" class=\"dataframe\">\n",
       "  <thead>\n",
       "    <tr style=\"text-align: right;\">\n",
       "      <th></th>\n",
       "      <th>City</th>\n",
       "      <th>Lat</th>\n",
       "      <th>Lng</th>\n",
       "      <th>Max Temp</th>\n",
       "      <th>Humidity</th>\n",
       "      <th>Cloudiness</th>\n",
       "      <th>Wind Speed</th>\n",
       "      <th>Country</th>\n",
       "      <th>Date</th>\n",
       "    </tr>\n",
       "  </thead>\n",
       "  <tbody>\n",
       "    <tr>\n",
       "      <td>0</td>\n",
       "      <td>butaritari</td>\n",
       "      <td>3.07</td>\n",
       "      <td>172.79</td>\n",
       "      <td>83.32</td>\n",
       "      <td>74</td>\n",
       "      <td>84</td>\n",
       "      <td>10.42</td>\n",
       "      <td>KI</td>\n",
       "      <td>1593605283</td>\n",
       "    </tr>\n",
       "    <tr>\n",
       "      <td>1</td>\n",
       "      <td>yerbogachen</td>\n",
       "      <td>61.28</td>\n",
       "      <td>108.01</td>\n",
       "      <td>79.52</td>\n",
       "      <td>58</td>\n",
       "      <td>20</td>\n",
       "      <td>7.70</td>\n",
       "      <td>RU</td>\n",
       "      <td>1593605121</td>\n",
       "    </tr>\n",
       "    <tr>\n",
       "      <td>2</td>\n",
       "      <td>cape town</td>\n",
       "      <td>-33.93</td>\n",
       "      <td>18.42</td>\n",
       "      <td>73.00</td>\n",
       "      <td>77</td>\n",
       "      <td>27</td>\n",
       "      <td>4.70</td>\n",
       "      <td>ZA</td>\n",
       "      <td>1593605039</td>\n",
       "    </tr>\n",
       "    <tr>\n",
       "      <td>3</td>\n",
       "      <td>touba</td>\n",
       "      <td>8.28</td>\n",
       "      <td>-7.68</td>\n",
       "      <td>79.97</td>\n",
       "      <td>75</td>\n",
       "      <td>82</td>\n",
       "      <td>3.58</td>\n",
       "      <td>CI</td>\n",
       "      <td>1593605284</td>\n",
       "    </tr>\n",
       "    <tr>\n",
       "      <td>4</td>\n",
       "      <td>jamestown</td>\n",
       "      <td>42.10</td>\n",
       "      <td>-79.24</td>\n",
       "      <td>64.00</td>\n",
       "      <td>88</td>\n",
       "      <td>1</td>\n",
       "      <td>6.93</td>\n",
       "      <td>US</td>\n",
       "      <td>1593605284</td>\n",
       "    </tr>\n",
       "  </tbody>\n",
       "</table>\n",
       "</div>"
      ],
      "text/plain": [
       "          City    Lat     Lng  Max Temp  Humidity  Cloudiness  Wind Speed  \\\n",
       "0   butaritari   3.07  172.79     83.32        74          84       10.42   \n",
       "1  yerbogachen  61.28  108.01     79.52        58          20        7.70   \n",
       "2    cape town -33.93   18.42     73.00        77          27        4.70   \n",
       "3        touba   8.28   -7.68     79.97        75          82        3.58   \n",
       "4    jamestown  42.10  -79.24     64.00        88           1        6.93   \n",
       "\n",
       "  Country        Date  \n",
       "0      KI  1593605283  \n",
       "1      RU  1593605121  \n",
       "2      ZA  1593605039  \n",
       "3      CI  1593605284  \n",
       "4      US  1593605284  "
      ]
     },
     "execution_count": 19,
     "metadata": {},
     "output_type": "execute_result"
    }
   ],
   "source": [
    "# Make a new DataFrame equal to the city data to drop all humidity outliers by index.\n",
    "# Passing \"inplace=False\" will make a copy of the city_data DataFrame, which we call \"clean_city_data\".\n"
   ]
  },
  {
   "cell_type": "code",
   "execution_count": null,
   "metadata": {},
   "outputs": [],
   "source": [
    "\n"
   ]
  },
  {
   "cell_type": "markdown",
   "metadata": {},
   "source": [
    "## Plotting the Data\n",
    "* Use proper labeling of the plots using plot titles (including date of analysis) and axes labels.\n",
    "* Save the plotted figures as .pngs."
   ]
  },
  {
   "cell_type": "markdown",
   "metadata": {},
   "source": [
    "## Latitude vs. Temperature Plot"
   ]
  },
  {
   "cell_type": "code",
   "execution_count": 29,
   "metadata": {
    "scrolled": true
   },
   "outputs": [
    {
     "data": {
      "image/png": "[encoded data removed]",
      "text/plain": [
       "<Figure size 432x288 with 1 Axes>"
      ]
     },
     "metadata": {
      "needs_background": "light"
     },
     "output_type": "display_data"
    }
   ],
   "source": [
    "#Scatter Plot Latitude vs Max Temperature\n",
    "plt.scatter(x=weatherCity_df[\"Lat\"],y=weatherCity_df[\"Max Temp\"], color=\"blue\", edgecolors=\"black\")\n",
    "plt.title(\"City Latitude vs. Max Temperature\")\n",
    "plt.xlabel(\"City Latitude\")\n",
    "plt.ylabel(\"Max Temperature (F)\")\n",
    "plt.grid()"
   ]
  },
  {
   "cell_type": "markdown",
   "metadata": {},
   "source": [
    "## Latitude vs. Humidity Plot"
   ]
  },
  {
   "cell_type": "code",
   "execution_count": 30,
   "metadata": {},
   "outputs": [
    {
     "data": {
      "image/png": "[encoded data removed]",
      "text/plain": [
       "<Figure size 432x288 with 1 Axes>"
      ]
     },
     "metadata": {
      "needs_background": "light"
     },
     "output_type": "display_data"
    }
   ],
   "source": [
    "#Scatter Plot Latitude vs Humidity\n",
    "plt.scatter(x=weatherCity_df[\"Lat\"],y=weatherCity_df[\"Humidity\"], color=\"blue\", edgecolors=\"black\")\n",
    "plt.title(\"City Latitude vs. Humidity\")\n",
    "plt.xlabel(\"City Latitude\")\n",
    "plt.ylabel(\"Humidity (%)\")\n",
    "plt.grid()"
   ]
  },
  {
   "cell_type": "markdown",
   "metadata": {},
   "source": [
    "## Latitude vs. Cloudiness Plot"
   ]
  },
  {
   "cell_type": "code",
   "execution_count": 28,
   "metadata": {},
   "outputs": [
    {
     "data": {
      "image/png": "[encoded data removed]",
      "text/plain": [
       "<Figure size 432x288 with 1 Axes>"
      ]
     },
     "metadata": {
      "needs_background": "light"
     },
     "output_type": "display_data"
    }
   ],
   "source": [
    "#Scatter Plot Latitude vs Cloudiness\n",
    "plt.scatter(x=weatherCity_df[\"Lat\"],y=weatherCity_df[\"Cloudiness\"], color=\"blue\", edgecolors=\"black\")\n",
    "plt.title(\"City Latitude vs. Cloudiness\")\n",
    "plt.xlabel(\"City Latitude\")\n",
    "plt.ylabel(\"Cloudiness\")\n",
    "plt.grid()"
   ]
  },
  {
   "cell_type": "markdown",
   "metadata": {},
   "source": [
    "## Latitude vs. Wind Speed Plot"
   ]
  },
  {
   "cell_type": "code",
   "execution_count": 34,
   "metadata": {},
   "outputs": [
    {
     "data": {
      "image/png": "[encoded data removed]",
      "text/plain": [
       "<Figure size 432x288 with 1 Axes>"
      ]
     },
     "metadata": {
      "needs_background": "light"
     },
     "output_type": "display_data"
    }
   ],
   "source": [
    "#Scatter Plot Latitude vs Wind Speed\n",
    "plt.scatter(x=weatherCity_df[\"Lat\"],y=weatherCity_df[\"Wind Speed\"], color=\"blue\", edgecolors=\"black\")\n",
    "plt.title(\"City Latitude vs. Wind Speed\")\n",
    "plt.xlabel(\"City Latitude\")\n",
    "plt.ylabel(\"Wind SPeed (metric)\")\n",
    "plt.grid()"
   ]
  },
  {
   "cell_type": "markdown",
   "metadata": {},
   "source": [
    "## Linear Regression"
   ]
  },
  {
   "cell_type": "code",
   "execution_count": 24,
   "metadata": {},
   "outputs": [],
   "source": []
  },
  {
   "cell_type": "markdown",
   "metadata": {},
   "source": [
    "####  Northern Hemisphere - Max Temp vs. Latitude Linear Regression"
   ]
  },
  {
   "cell_type": "code",
   "execution_count": 25,
   "metadata": {},
   "outputs": [
    {
     "name": "stdout",
     "output_type": "stream",
     "text": [
      "The r-value is: 0.46937863826630627\n"
     ]
    },
    {
     "data": {
      "image/png": "[encoded data removed]",
      "text/plain": [
       "<Figure size 432x288 with 1 Axes>"
      ]
     },
     "metadata": {
      "needs_background": "light"
     },
     "output_type": "display_data"
    }
   ],
   "source": []
  },
  {
   "cell_type": "markdown",
   "metadata": {},
   "source": [
    "####  Southern Hemisphere - Max Temp vs. Latitude Linear Regression"
   ]
  },
  {
   "cell_type": "code",
   "execution_count": 26,
   "metadata": {},
   "outputs": [
    {
     "name": "stdout",
     "output_type": "stream",
     "text": [
      "The r-value is: 0.6082708688906918\n"
     ]
    },
    {
     "data": {
      "image/png": "[encoded data removed]",
      "text/plain": [
       "<Figure size 432x288 with 1 Axes>"
      ]
     },
     "metadata": {
      "needs_background": "light"
     },
     "output_type": "display_data"
    }
   ],
   "source": []
  },
  {
   "cell_type": "markdown",
   "metadata": {},
   "source": [
    "####  Northern Hemisphere - Humidity (%) vs. Latitude Linear Regression"
   ]
  },
  {
   "cell_type": "code",
   "execution_count": 27,
   "metadata": {},
   "outputs": [
    {
     "name": "stdout",
     "output_type": "stream",
     "text": [
      "The r-value is: 0.000543987878808455\n"
     ]
    },
    {
     "data": {
      "image/png": "[encoded data removed]",
      "text/plain": [
       "<Figure size 432x288 with 1 Axes>"
      ]
     },
     "metadata": {
      "needs_background": "light"
     },
     "output_type": "display_data"
    }
   ],
   "source": []
  },
  {
   "cell_type": "markdown",
   "metadata": {},
   "source": [
    "####  Southern Hemisphere - Humidity (%) vs. Latitude Linear Regression"
   ]
  },
  {
   "cell_type": "code",
   "execution_count": 28,
   "metadata": {},
   "outputs": [
    {
     "name": "stdout",
     "output_type": "stream",
     "text": [
      "The r-value is: 0.014985174297345524\n"
     ]
    },
    {
     "data": {
      "image/png": "[encoded data removed]",
      "text/plain": [
       "<Figure size 432x288 with 1 Axes>"
      ]
     },
     "metadata": {
      "needs_background": "light"
     },
     "output_type": "display_data"
    }
   ],
   "source": []
  },
  {
   "cell_type": "markdown",
   "metadata": {},
   "source": [
    "####  Northern Hemisphere - Cloudiness (%) vs. Latitude Linear Regression"
   ]
  },
  {
   "cell_type": "code",
   "execution_count": 29,
   "metadata": {},
   "outputs": [
    {
     "name": "stdout",
     "output_type": "stream",
     "text": [
      "The r-value is: 0.0020898727664228514\n"
     ]
    },
    {
     "data": {
      "image/png": "[encoded data removed]",
      "text/plain": [
       "<Figure size 432x288 with 1 Axes>"
      ]
     },
     "metadata": {
      "needs_background": "light"
     },
     "output_type": "display_data"
    }
   ],
   "source": []
  },
  {
   "cell_type": "markdown",
   "metadata": {},
   "source": [
    "####  Southern Hemisphere - Cloudiness (%) vs. Latitude Linear Regression"
   ]
  },
  {
   "cell_type": "code",
   "execution_count": 30,
   "metadata": {},
   "outputs": [
    {
     "name": "stdout",
     "output_type": "stream",
     "text": [
      "The r-value is: 0.0035263772085582894\n"
     ]
    },
    {
     "data": {
      "image/png": "[encoded data removed]",
      "text/plain": [
       "<Figure size 432x288 with 1 Axes>"
      ]
     },
     "metadata": {
      "needs_background": "light"
     },
     "output_type": "display_data"
    }
   ],
   "source": []
  },
  {
   "cell_type": "markdown",
   "metadata": {},
   "source": [
    "####  Northern Hemisphere - Wind Speed (mph) vs. Latitude Linear Regression"
   ]
  },
  {
   "cell_type": "code",
   "execution_count": 31,
   "metadata": {},
   "outputs": [
    {
     "name": "stdout",
     "output_type": "stream",
     "text": [
      "The r-value is: 0.04019723576144484\n"
     ]
    },
    {
     "data": {
      "image/png": "[encoded data removed]",
      "text/plain": [
       "<Figure size 432x288 with 1 Axes>"
      ]
     },
     "metadata": {
      "needs_background": "light"
     },
     "output_type": "display_data"
    }
   ],
   "source": []
  },
  {
   "cell_type": "markdown",
   "metadata": {},
   "source": [
    "####  Southern Hemisphere - Wind Speed (mph) vs. Latitude Linear Regression"
   ]
  },
  {
   "cell_type": "code",
   "execution_count": 32,
   "metadata": {},
   "outputs": [
    {
     "name": "stdout",
     "output_type": "stream",
     "text": [
      "The r-value is: 0.017128274759839232\n"
     ]
    },
    {
     "data": {
      "image/png": "[encoded data removed]",
      "text/plain": [
       "<Figure size 432x288 with 1 Axes>"
      ]
     },
     "metadata": {
      "needs_background": "light"
     },
     "output_type": "display_data"
    }
   ],
   "source": []
  },
  {
   "cell_type": "code",
   "execution_count": null,
   "metadata": {},
   "outputs": [],
   "source": []
  }
 ],
 "metadata": {
  "anaconda-cloud": {},
  "kernel_info": {
   "name": "python3"
  },
  "kernelspec": {
   "display_name": "Python 3",
   "language": "python",
   "name": "python3"
  },
  "language_info": {
   "codemirror_mode": {
    "name": "ipython",
    "version": 3
   },
   "file_extension": ".py",
   "mimetype": "text/x-python",
   "name": "python",
   "nbconvert_exporter": "python",
   "pygments_lexer": "ipython3",
   "version": "3.8.5"
  },
  "latex_envs": {
   "LaTeX_envs_menu_present": true,
   "autoclose": false,
   "autocomplete": true,
   "bibliofile": "biblio.bib",
   "cite_by": "apalike",
   "current_citInitial": 1,
   "eqLabelWithNumbers": true,
   "eqNumInitial": 1,
   "hotkeys": {
    "equation": "Ctrl-E",
    "itemize": "Ctrl-I"
   },
   "labels_anchors": false,
   "latex_user_defs": false,
   "report_style_numbering": false,
   "user_envs_cfg": false
  },
  "nteract": {
   "version": "0.12.3"
  }
 },
 "nbformat": 4,
 "nbformat_minor": 2
}
